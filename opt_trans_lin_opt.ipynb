{
 "cells": [
  {
   "cell_type": "code",
   "execution_count": 1,
   "id": "ad44fd91",
   "metadata": {},
   "outputs": [],
   "source": [
    "import cvxpy as cvx\n",
    "import numpy as np\n",
    "from allocate_memory_data import plot_memory\n",
    "from allocate_memory_data import C,D,c,b"
   ]
  },
  {
   "cell_type": "code",
   "execution_count": null,
   "id": "13ab16b5",
   "metadata": {},
   "outputs": [],
   "source": [
    "p = \n",
    "q = \n",
    "C = "
   ]
  },
  {
   "cell_type": "code",
   "execution_count": null,
   "id": "617ae481",
   "metadata": {},
   "outputs": [],
   "source": [
    "X = cvx.Variable(shape=(n, m), PSD = True)\n",
    "\n",
    "sum_pro = 0\n",
    "\n",
    "for i in range(n):\n",
    "    for j in range(m):\n",
    "        sum_pro += X[i, j] * C[i, j] * p[j]\n",
    "\n",
    "obj = sum_pro\n",
    "\n",
    "constraint = [X @ p == q]\n",
    "constraint += [M.T @ np.ones(n) == np.ones(m)]\n",
    "\n",
    "opt_val = cvx.Problem(cvx.Minimize(obj), constraint).solve()\n",
    "opt_val"
   ]
  }
 ],
 "metadata": {
  "kernelspec": {
   "display_name": "Python 3 (ipykernel)",
   "language": "python",
   "name": "python3"
  },
  "language_info": {
   "codemirror_mode": {
    "name": "ipython",
    "version": 3
   },
   "file_extension": ".py",
   "mimetype": "text/x-python",
   "name": "python",
   "nbconvert_exporter": "python",
   "pygments_lexer": "ipython3",
   "version": "3.9.7"
  }
 },
 "nbformat": 4,
 "nbformat_minor": 5
}
