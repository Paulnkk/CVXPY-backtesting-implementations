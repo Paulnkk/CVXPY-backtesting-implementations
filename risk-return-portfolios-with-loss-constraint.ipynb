{
 "cells": [
  {
   "cell_type": "code",
   "execution_count": 1,
   "id": "94f82970",
   "metadata": {},
   "outputs": [],
   "source": [
    "import cvxpy as cvx\n",
    "import numpy as np\n",
    "import matplotlib.pyplot as plt"
   ]
  },
  {
   "cell_type": "code",
   "execution_count": 2,
   "id": "a7f9b2a9",
   "metadata": {},
   "outputs": [],
   "source": [
    "n = 4\n",
    "\n",
    "# initialize vector for price changes pbar and covariance matrix Sigma \n",
    "pbar = np.array([.12, .1, .07, .03])\n",
    "Sigma = np.array([[.0064, .0008, -.0011, .0],\n",
    "       [.0008, .0025, .0, .0],\n",
    "       [-.0011, .0, .0004, .0],\n",
    "       [.0, .0, .0, .0]])\n",
    "\n",
    "# Initialize quadratic objective function -pbar.T @ x + x.T @ Sigma @ x\n",
    "x = cvx.Variable(shape=(n, 1))\n",
    "mu_vals = np.logspace(start = 1, stop = 7, num = 100)\n",
    "cp_quad_sigma = cvx.quad_form(x, Sigma)\n",
    "\n",
    "runs = 100\n",
    "\n",
    "returns = list()\n",
    "std = list()"
   ]
  },
  {
   "cell_type": "code",
   "execution_count": 4,
   "id": "fd3cbbd5",
   "metadata": {},
   "outputs": [
    {
     "data": {
      "text/plain": [
       "Text(0, 0.5, 'returns')"
      ]
     },
     "execution_count": 4,
     "metadata": {},
     "output_type": "execute_result"
    },
    {
     "data": {
      "image/png": "[encoded data removed]",
      "text/plain": [
       "<Figure size 432x288 with 1 Axes>"
      ]
     },
     "metadata": {
      "needs_background": "light"
     },
     "output_type": "display_data"
    }
   ],
   "source": [
    "# Markowitz optimization approach by minimizing negative return and risk measure \n",
    "\n",
    "for i in range(runs):\n",
    "    \n",
    "    # generate different combinations of portfolios (std vs returns) varied by mu\n",
    "    \n",
    "    mu = mu_vals[i]\n",
    "    \n",
    "    obj_marko = -pbar.T @ x + mu * cvx.quad_form(x, Sigma)\n",
    "\n",
    "    const = [cvx.sum(x) == 1]\n",
    "    const += [x >= 0]\n",
    "\n",
    "    obj_marko = cvx.Problem(cvx.Minimize(obj_marko), const).solve()\n",
    "    \n",
    "    returns.append(pbar.T @ x.value)\n",
    "    std.append(np.sqrt((x.value).T @ Sigma @ x.value))\n",
    "    \n",
    "  \n",
    "plt.plot(np.ndarray.flatten(np.array(std)), np.ndarray.flatten(np.array(returns)))\n",
    "plt.xlabel('std')\n",
    "plt.ylabel('returns')"
   ]
  },
  {
   "cell_type": "code",
   "execution_count": 31,
   "id": "605625d1",
   "metadata": {},
   "outputs": [
    {
     "data": {
      "text/plain": [
       "Text(0, 0.5, 'returns')"
      ]
     },
     "execution_count": 31,
     "metadata": {},
     "output_type": "execute_result"
    },
    {
     "data": {
      "image/png": "[encoded data removed]",
      "text/plain": [
       "<Figure size 432x288 with 1 Axes>"
      ]
     },
     "metadata": {
      "needs_background": "light"
     },
     "output_type": "display_data"
    }
   ],
   "source": [
    "# portfolio optimization with loss constraint \n",
    "\n",
    "# solve:\n",
    "# max pbar.T x s.t.\n",
    "# constraint that probability for negative return is lower then beta -> calculate for beta\n",
    "# Phi((beta - pbar.T x) / (sqrt(x.T Sigma x))) <= eta,\n",
    "# sum(x) == 1 and x >= 0\n",
    "# We can isolate beta by using Phi^-1 inverse mapping \n",
    "\n",
    "# load package for standard normal distribution \n",
    "from scipy.stats import norm\n",
    "from numpy import linalg as la\n",
    "\n",
    "y = cvx.Variable(shape=(n, 1))\n",
    "\n",
    "# eta in log scale from 10-4 to 10-1\n",
    "eta_vals = np.logspace(start = -4, stop = -1, num = 100)\n",
    "beta = 0.01\n",
    "\n",
    "#eigenvector decomposition of Sigma because cvxpy is not able to take sqrt of quadform sqrt(x.T Sigma x)\n",
    "V, D = la.eigh(Sigma)\n",
    "\n",
    "sqrtSigma = D @ np.sqrt(np.diag(V)) @ D.T\n",
    "\n",
    "returns_set = [0] * 100\n",
    "\n",
    "for i in range(runs):\n",
    "    \n",
    "    # generate different combinations of portfolios (std vs returns) varied by mu\n",
    "    \n",
    "    eta = eta_vals[i]\n",
    "    \n",
    "    # max return \n",
    "    \n",
    "    obj_max_return = pbar.T @ y\n",
    "    \n",
    "    # reformulated constraints (isolated beta)\n",
    "    \n",
    "    const_1 = [cvx.sum(y) == 1]\n",
    "    const_1 += [y >= 0]\n",
    "    const_1 += [norm.ppf(eta) * cvx.norm(sqrtSigma @ y, 2) + pbar.T @ y >= beta]\n",
    "\n",
    "    obj_return = cvx.Problem(cvx.Maximize(obj_max_return), const_1).solve()\n",
    "    \n",
    "    returns_set[i] = obj_return\n",
    "\n",
    "\n",
    "plt.plot(eta_vals, np.array(returns_set))\n",
    "plt.xlabel('eta')\n",
    "plt.ylabel('returns')    "
   ]
  }
 ],
 "metadata": {
  "kernelspec": {
   "display_name": "Python 3 (ipykernel)",
   "language": "python",
   "name": "python3"
  },
  "language_info": {
   "codemirror_mode": {
    "name": "ipython",
    "version": 3
   },
   "file_extension": ".py",
   "mimetype": "text/x-python",
   "name": "python",
   "nbconvert_exporter": "python",
   "pygments_lexer": "ipython3",
   "version": "3.9.7"
  }
 },
 "nbformat": 4,
 "nbformat_minor": 5
}
